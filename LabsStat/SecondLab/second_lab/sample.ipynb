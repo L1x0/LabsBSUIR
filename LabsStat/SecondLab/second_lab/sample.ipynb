{
 "cells": [
  {
   "metadata": {},
   "cell_type": "markdown",
   "source": "",
   "id": "d0f29ccd816f21df"
  },
  {
   "metadata": {},
   "cell_type": "markdown",
   "source": [
    "# Вторая лабораторная работа\n",
    "## Регрессионный анализ\n",
    "## Цель задания\n",
    "Изучить основы регрессионного анализа в машинном обучении, освоить\n",
    "практические навыки построения и оценки регрессионных моделей для\n",
    "решения задач прогнозирования непрерывных величин."
   ],
   "id": "62a35f3f20fc8a05"
  },
  {
   "metadata": {},
   "cell_type": "markdown",
   "source": [
    "## Выполнение\n",
    "\n",
    "### 1. Выбор датасета\n",
    "Для лабораторной работы №2 нужен датасет подходящий для предсказания непрерывных значений. Такой датасет должен удовлетворять следующим критериям: \\\n",
    "    1) Целевая переменная — числовая и непрерывная \\\n",
    "    2) Достаточная вариативность и покрытие диапазона \\\n",
    "    3) Остаточный объём выборки \\\n",
    "    4) Независимость/корреляции наблюдений (IID) \n",
    "    \n",
    "https://www.kaggle.com/datasets/nabeelqureshitiii/student-performance-dataset"
   ],
   "id": "2b5813b9e53a7627"
  },
  {
   "metadata": {},
   "cell_type": "markdown",
   "source": [
    "\n",
    "## 2. Предобработка данных"
   ],
   "id": "ac2632898efd7ed8"
  },
  {
   "metadata": {},
   "cell_type": "markdown",
   "source": "### Импорты",
   "id": "b5180f8e07c8cbd6"
  },
  {
   "metadata": {
    "ExecuteTime": {
     "end_time": "2025-10-20T18:44:41.387141Z",
     "start_time": "2025-10-20T18:44:41.384886Z"
    }
   },
   "cell_type": "code",
   "source": [
    "import numpy as np\n",
    "import pandas as pd\n",
    "import matplotlib.pyplot as plt\n",
    "from sklearn.model_selection import train_test_split\n",
    "from sklearn.pipeline import Pipeline\n",
    "from sklearn.preprocessing import StandardScaler, PolynomialFeatures\n",
    "from sklearn.linear_model import LinearRegression, Ridge, Lasso"
   ],
   "id": "6c6a365a84392664",
   "outputs": [],
   "execution_count": 33
  },
  {
   "metadata": {},
   "cell_type": "markdown",
   "source": [
    "\n",
    "### Анализ пропущенных значение и их обработка"
   ],
   "id": "36678cdd08d03c82"
  },
  {
   "metadata": {
    "ExecuteTime": {
     "end_time": "2025-10-20T18:44:41.820800Z",
     "start_time": "2025-10-20T18:44:41.417760Z"
    }
   },
   "cell_type": "code",
   "source": [
    "dataset = pd.read_csv(\"./data/student_performance.csv\")\n",
    "\n",
    "def process_null_val():\n",
    "    null_val_count = dataset.isnull().sum()\n",
    "\n",
    "    print(\"Количество пропусков\")\n",
    "    print(null_val_count)\n",
    "\n",
    "    if len(null_val_count) > 0:\n",
    "        return dataset.dropna()\n",
    "    else:\n",
    "        return dataset\n",
    "\n",
    "\n",
    "def process_duplicate_rows():\n",
    "    duplicate_row_count = dataset.duplicated().sum()\n",
    "\n",
    "    print(f\"Количество дубликатов: {duplicate_row_count}\")\n",
    "\n",
    "    if duplicate_row_count > 0:\n",
    "        return dataset.drop_duplicates()\n",
    "    else:\n",
    "        return dataset\n",
    "    \n",
    "process_null_val()\n",
    "process_duplicate_rows()"
   ],
   "id": "81af9d6be80a45fd",
   "outputs": [
    {
     "name": "stdout",
     "output_type": "stream",
     "text": [
      "Количество пропусков\n",
      "student_id                 0\n",
      "weekly_self_study_hours    0\n",
      "attendance_percentage      0\n",
      "class_participation        0\n",
      "total_score                0\n",
      "grade                      0\n",
      "dtype: int64\n",
      "Количество дубликатов: 0\n"
     ]
    },
    {
     "data": {
      "text/plain": [
       "        student_id  weekly_self_study_hours  attendance_percentage  \\\n",
       "0                1                     18.5                   95.6   \n",
       "1                2                     14.0                   80.0   \n",
       "2                3                     19.5                   86.3   \n",
       "3                4                     25.7                   70.2   \n",
       "4                5                     13.4                   81.9   \n",
       "...            ...                      ...                    ...   \n",
       "999995      999996                     18.0                   95.5   \n",
       "999996      999997                     15.7                   82.7   \n",
       "999997      999998                     14.2                   85.1   \n",
       "999998      999999                     25.3                   90.0   \n",
       "999999     1000000                     18.3                   84.6   \n",
       "\n",
       "        class_participation  total_score grade  \n",
       "0                       3.8         97.9     A  \n",
       "1                       2.5         83.9     B  \n",
       "2                       5.3        100.0     A  \n",
       "3                       7.0        100.0     A  \n",
       "4                       6.9         92.0     A  \n",
       "...                     ...          ...   ...  \n",
       "999995                  4.8        100.0     A  \n",
       "999996                  6.7         88.3     A  \n",
       "999997                  5.8         87.9     A  \n",
       "999998                  5.3        100.0     A  \n",
       "999999                  4.1        100.0     A  \n",
       "\n",
       "[1000000 rows x 6 columns]"
      ],
      "text/html": [
       "<div>\n",
       "<style scoped>\n",
       "    .dataframe tbody tr th:only-of-type {\n",
       "        vertical-align: middle;\n",
       "    }\n",
       "\n",
       "    .dataframe tbody tr th {\n",
       "        vertical-align: top;\n",
       "    }\n",
       "\n",
       "    .dataframe thead th {\n",
       "        text-align: right;\n",
       "    }\n",
       "</style>\n",
       "<table border=\"1\" class=\"dataframe\">\n",
       "  <thead>\n",
       "    <tr style=\"text-align: right;\">\n",
       "      <th></th>\n",
       "      <th>student_id</th>\n",
       "      <th>weekly_self_study_hours</th>\n",
       "      <th>attendance_percentage</th>\n",
       "      <th>class_participation</th>\n",
       "      <th>total_score</th>\n",
       "      <th>grade</th>\n",
       "    </tr>\n",
       "  </thead>\n",
       "  <tbody>\n",
       "    <tr>\n",
       "      <th>0</th>\n",
       "      <td>1</td>\n",
       "      <td>18.5</td>\n",
       "      <td>95.6</td>\n",
       "      <td>3.8</td>\n",
       "      <td>97.9</td>\n",
       "      <td>A</td>\n",
       "    </tr>\n",
       "    <tr>\n",
       "      <th>1</th>\n",
       "      <td>2</td>\n",
       "      <td>14.0</td>\n",
       "      <td>80.0</td>\n",
       "      <td>2.5</td>\n",
       "      <td>83.9</td>\n",
       "      <td>B</td>\n",
       "    </tr>\n",
       "    <tr>\n",
       "      <th>2</th>\n",
       "      <td>3</td>\n",
       "      <td>19.5</td>\n",
       "      <td>86.3</td>\n",
       "      <td>5.3</td>\n",
       "      <td>100.0</td>\n",
       "      <td>A</td>\n",
       "    </tr>\n",
       "    <tr>\n",
       "      <th>3</th>\n",
       "      <td>4</td>\n",
       "      <td>25.7</td>\n",
       "      <td>70.2</td>\n",
       "      <td>7.0</td>\n",
       "      <td>100.0</td>\n",
       "      <td>A</td>\n",
       "    </tr>\n",
       "    <tr>\n",
       "      <th>4</th>\n",
       "      <td>5</td>\n",
       "      <td>13.4</td>\n",
       "      <td>81.9</td>\n",
       "      <td>6.9</td>\n",
       "      <td>92.0</td>\n",
       "      <td>A</td>\n",
       "    </tr>\n",
       "    <tr>\n",
       "      <th>...</th>\n",
       "      <td>...</td>\n",
       "      <td>...</td>\n",
       "      <td>...</td>\n",
       "      <td>...</td>\n",
       "      <td>...</td>\n",
       "      <td>...</td>\n",
       "    </tr>\n",
       "    <tr>\n",
       "      <th>999995</th>\n",
       "      <td>999996</td>\n",
       "      <td>18.0</td>\n",
       "      <td>95.5</td>\n",
       "      <td>4.8</td>\n",
       "      <td>100.0</td>\n",
       "      <td>A</td>\n",
       "    </tr>\n",
       "    <tr>\n",
       "      <th>999996</th>\n",
       "      <td>999997</td>\n",
       "      <td>15.7</td>\n",
       "      <td>82.7</td>\n",
       "      <td>6.7</td>\n",
       "      <td>88.3</td>\n",
       "      <td>A</td>\n",
       "    </tr>\n",
       "    <tr>\n",
       "      <th>999997</th>\n",
       "      <td>999998</td>\n",
       "      <td>14.2</td>\n",
       "      <td>85.1</td>\n",
       "      <td>5.8</td>\n",
       "      <td>87.9</td>\n",
       "      <td>A</td>\n",
       "    </tr>\n",
       "    <tr>\n",
       "      <th>999998</th>\n",
       "      <td>999999</td>\n",
       "      <td>25.3</td>\n",
       "      <td>90.0</td>\n",
       "      <td>5.3</td>\n",
       "      <td>100.0</td>\n",
       "      <td>A</td>\n",
       "    </tr>\n",
       "    <tr>\n",
       "      <th>999999</th>\n",
       "      <td>1000000</td>\n",
       "      <td>18.3</td>\n",
       "      <td>84.6</td>\n",
       "      <td>4.1</td>\n",
       "      <td>100.0</td>\n",
       "      <td>A</td>\n",
       "    </tr>\n",
       "  </tbody>\n",
       "</table>\n",
       "<p>1000000 rows × 6 columns</p>\n",
       "</div>"
      ]
     },
     "execution_count": 34,
     "metadata": {},
     "output_type": "execute_result"
    }
   ],
   "execution_count": 34
  },
  {
   "metadata": {},
   "cell_type": "markdown",
   "source": "### Обработка выбросов\n",
   "id": "2c9bae46e34ec3c1"
  },
  {
   "metadata": {
    "ExecuteTime": {
     "end_time": "2025-10-20T18:44:42.101444Z",
     "start_time": "2025-10-20T18:44:41.850898Z"
    }
   },
   "cell_type": "code",
   "source": [
    "def make_exhaust_barplots():\n",
    "    plt.figure(figsize=(8, 6))\n",
    "    plt.boxplot(dataset['weekly_self_study_hours'], showfliers=True)\n",
    "    plt.title('Время самообучения (неделя)')\n",
    "    plt.ylabel('часы')\n",
    "    plt.show()\n",
    "    \n",
    "    plt.figure(figsize=(8, 6))\n",
    "    plt.boxplot(dataset['attendance_percentage'], showfliers=True)\n",
    "    plt.title('Посещаемость')\n",
    "    plt.ylabel('проценты')\n",
    "    plt.show()\n",
    "    \n",
    "    plt.figure(figsize=(8, 6))\n",
    "    plt.boxplot(dataset['class_participation'], showfliers=True)\n",
    "    plt.title('Активность на занятиях (1-10)')\n",
    "    plt.ylabel('оценка')\n",
    "    plt.show()\n",
    "    \n",
    "    plt.figure(figsize=(8, 6))\n",
    "    plt.boxplot(dataset['total_score'], showfliers=True)\n",
    "    plt.title('Оценка производительности (0-100)')\n",
    "    plt.ylabel('оценка')\n",
    "    plt.show()\n",
    "    \n",
    "make_exhaust_barplots()"
   ],
   "id": "2ac67bd7bf164b99",
   "outputs": [
    {
     "data": {
      "text/plain": [
       "<Figure size 800x600 with 1 Axes>"
      ],
      "image/png": "[encoded data removed]"
     },
     "metadata": {},
     "output_type": "display_data"
    },
    {
     "data": {
      "text/plain": [
       "<Figure size 800x600 with 1 Axes>"
      ],
      "image/png": "[encoded data removed]"
     },
     "metadata": {},
     "output_type": "display_data"
    },
    {
     "data": {
      "text/plain": [
       "<Figure size 800x600 with 1 Axes>"
      ],
      "image/png": "[encoded data removed]"
     },
     "metadata": {},
     "output_type": "display_data"
    },
    {
     "data": {
      "text/plain": [
       "<Figure size 800x600 with 1 Axes>"
      ],
      "image/png": "[encoded data removed]"
     },
     "metadata": {},
     "output_type": "display_data"
    }
   ],
   "execution_count": 35
  },
  {
   "metadata": {
    "ExecuteTime": {
     "end_time": "2025-10-20T18:44:42.302849Z",
     "start_time": "2025-10-20T18:44:42.120003Z"
    }
   },
   "cell_type": "code",
   "source": [
    "def exhaust_process():\n",
    "    before_count = dataset.size\n",
    "\n",
    "    Q1 = dataset['weekly_self_study_hours'].quantile(0.25)\n",
    "    Q3 = dataset['weekly_self_study_hours'].quantile(0.75)\n",
    "    IQR = Q3 - Q1\n",
    "    lower_bound = Q1 - 1.5 * IQR\n",
    "    upper_bound = Q3 + 1.5 * IQR\n",
    "\n",
    "    df_filtered = dataset[\n",
    "        (dataset['weekly_self_study_hours'] >= lower_bound) & (dataset['weekly_self_study_hours'] <= upper_bound)]\n",
    "    \n",
    "    Q1 = df_filtered['attendance_percentage'].quantile(0.25)\n",
    "    Q3 = df_filtered['attendance_percentage'].quantile(0.75)\n",
    "    IQR = Q3 - Q1\n",
    "    lower_bound = Q1 - 1.5 * IQR\n",
    "    upper_bound = Q3 + 1.5 * IQR\n",
    "\n",
    "    df_filtered = df_filtered[\n",
    "        (df_filtered['attendance_percentage'] >= lower_bound) & (df_filtered['attendance_percentage'] <= upper_bound)]\n",
    "    \n",
    "    Q1 = df_filtered['class_participation'].quantile(0.25)\n",
    "    Q3 = df_filtered['class_participation'].quantile(0.75)\n",
    "    IQR = Q3 - Q1\n",
    "    lower_bound = Q1 - 1.5 * IQR\n",
    "    upper_bound = Q3 + 1.5 * IQR\n",
    "\n",
    "    df_filtered = df_filtered[\n",
    "        (df_filtered['class_participation'] >= lower_bound) & (df_filtered['class_participation'] <= upper_bound)]\n",
    "    \n",
    "    Q1 = df_filtered['total_score'].quantile(0.25)\n",
    "    Q3 = df_filtered['total_score'].quantile(0.75)\n",
    "    IQR = Q3 - Q1\n",
    "    lower_bound = Q1 - 1.5 * IQR\n",
    "    upper_bound = Q3 + 1.5 * IQR\n",
    "\n",
    "    df_filtered = df_filtered[\n",
    "        (df_filtered['total_score'] >= lower_bound) & (df_filtered['total_score'] <= upper_bound)]\n",
    "    \n",
    "    \n",
    "    print(f'Удалено {before_count - df_filtered.size}')\n",
    "    return df_filtered\n",
    "\n",
    "dataset = exhaust_process()"
   ],
   "id": "1faaa1a2d3628850",
   "outputs": [
    {
     "name": "stdout",
     "output_type": "stream",
     "text": [
      "Удалено 82950\n"
     ]
    }
   ],
   "execution_count": 36
  },
  {
   "metadata": {},
   "cell_type": "markdown",
   "source": "### Обработка типов данных",
   "id": "88cd7d87f1d7de48"
  },
  {
   "metadata": {
    "ExecuteTime": {
     "end_time": "2025-10-20T18:44:42.322883Z",
     "start_time": "2025-10-20T18:44:42.320334Z"
    }
   },
   "cell_type": "code",
   "source": [
    "def map_column(df, col, in_place=True, handle_case=True):\n",
    "    mapping = {'A': 1, 'B': 2, 'C': 3, 'D': 4, 'E': 5, 'F': 6}\n",
    "    \n",
    "    if not in_place:\n",
    "        df = df.copy()\n",
    "\n",
    "    if handle_case:\n",
    "        tmp = df[col].astype(str).str.strip().str.upper()\n",
    "    else:\n",
    "        tmp = df[col]\n",
    "\n",
    "    mapped = tmp.map(mapping)\n",
    "    \n",
    "\n",
    "    df[col] = mapped\n",
    "    return df\n",
    "\n",
    "def change_columns_type():\n",
    "    dataset['weekly_self_study_hours'] = dataset['weekly_self_study_hours'].astype('int')\n",
    "    dataset['attendance_percentage'] = dataset['attendance_percentage'].astype('int')\n",
    "    dataset['total_score'] = dataset['total_score'].astype('int')\n",
    "    dataset['class_participation'] = dataset['class_participation'].astype('int')\n",
    "    \n",
    "    map_column(dataset, \"grade\")"
   ],
   "id": "4ac6c2e9bfd04aa4",
   "outputs": [],
   "execution_count": 37
  },
  {
   "metadata": {},
   "cell_type": "markdown",
   "source": "### Разделение набора данных на обучающий и тестовый\n",
   "id": "bca6d74a940c7a6b"
  },
  {
   "metadata": {
    "ExecuteTime": {
     "end_time": "2025-10-20T18:44:42.388891Z",
     "start_time": "2025-10-20T18:44:42.333172Z"
    }
   },
   "cell_type": "code",
   "source": [
    "X = dataset.drop(columns=['total_score', 'student_id', 'grade'], errors='ignore')\n",
    "y = dataset['total_score']\n",
    "\n",
    "stratify_arg = y if (y.dtype == 'O' or y.dtype.name == 'category' or y.nunique() <= 20) else None\n",
    "\n",
    "\n",
    "X_train, X_test, y_train, y_test = train_test_split(\n",
    "    X, y, test_size=0.2, random_state=42, shuffle=True, stratify=stratify_arg\n",
    ")\n",
    "\n",
    "print(f\"Train: {len(X_train)} rows, Test: {len(X_test)} rows\")"
   ],
   "id": "4c11b052f8733d3d",
   "outputs": [
    {
     "name": "stdout",
     "output_type": "stream",
     "text": [
      "Train: 788940 rows, Test: 197235 rows\n"
     ]
    }
   ],
   "execution_count": 38
  },
  {
   "metadata": {},
   "cell_type": "markdown",
   "source": "## 3. Построение и обучение моделей",
   "id": "22a8cc7d4c19f590"
  },
  {
   "metadata": {
    "ExecuteTime": {
     "end_time": "2025-10-20T18:44:42.599192Z",
     "start_time": "2025-10-20T18:44:42.398664Z"
    }
   },
   "cell_type": "code",
   "source": [
    "models = {\n",
    "    'Linear': Pipeline([('scaler', StandardScaler()), ('lr', LinearRegression())]),\n",
    "    'Ridge': Pipeline([('scaler', StandardScaler()), ('ridge', Ridge(alpha=1.0))]),\n",
    "    'Lasso': Pipeline([('scaler', StandardScaler()), ('lasso', Lasso(alpha=0.1, max_iter=10000))]),\n",
    "    'Poly2+Ridge': Pipeline([('scaler', StandardScaler()),\n",
    "                             ('poly', PolynomialFeatures(degree=2, include_bias=False)),\n",
    "                             ('ridge', Ridge(alpha=1.0))])\n",
    "}\n",
    "\n",
    "for name, model in models.items():\n",
    "    model.fit(X_train, y_train)"
   ],
   "id": "c33ad6e1fcd5fc9d",
   "outputs": [],
   "execution_count": 39
  },
  {
   "metadata": {},
   "cell_type": "markdown",
   "source": "## 4.Оценка результатов моделей",
   "id": "2036b4246db2c0a2"
  },
  {
   "metadata": {
    "ExecuteTime": {
     "end_time": "2025-10-20T18:44:42.698705Z",
     "start_time": "2025-10-20T18:44:42.633378Z"
    }
   },
   "cell_type": "code",
   "source": [
    "from sklearn.metrics import mean_squared_error, mean_absolute_error, r2_score\n",
    "\n",
    "def evaluate_regression_model(model):\n",
    "\n",
    "    y_pred = model.predict(X_test)\n",
    "\n",
    "\n",
    "    mse  = mean_squared_error(y_test, y_pred) \n",
    "    rmse = np.sqrt(mse)\n",
    "    mae  = mean_absolute_error(y_test, y_pred)\n",
    "    r2   = r2_score(y_test, y_pred) \n",
    "\n",
    "    return {'y_pred': y_pred, 'mse': mse, 'rmse': rmse, 'mae': mae, 'r2': r2}\n",
    "\n",
    "def compare_models(models, sort_by='rmse', ascending=True, save_path=None):\n",
    "    \n",
    "    rows = []\n",
    "\n",
    "    if isinstance(models, dict):\n",
    "        iterator = models.items()\n",
    "    else:\n",
    "        iterator = models\n",
    "\n",
    "    for name, model in iterator:\n",
    "        try:\n",
    "            res = evaluate_regression_model(model)\n",
    "        except Exception as e:\n",
    "\n",
    "            print(f\"Error evaluating model {name}: {e}\")\n",
    "            rows.append({'model': name, 'mse': np.nan, 'rmse': np.nan, 'mae': np.nan, 'r2': np.nan})\n",
    "            continue\n",
    "\n",
    "        rows.append({'model': name,\n",
    "                     'mse':  res['mse'],\n",
    "                     'rmse': res['rmse'],\n",
    "                     'mae':  res['mae'],\n",
    "                     'r2':   res['r2']})\n",
    "\n",
    "    df = pd.DataFrame(rows).set_index('model')\n",
    "\n",
    "    if sort_by in df.columns:\n",
    "        df = df.sort_values(by=sort_by, ascending=ascending)\n",
    "\n",
    "    df_display = df.copy()\n",
    "    df_display = df_display.round(4)\n",
    "\n",
    "    if save_path is not None:\n",
    "        df.to_csv(save_path)\n",
    "        print(f\"Saved comparison to {save_path}\")\n",
    "\n",
    "    print(\"\\nModel comparison (sorted by {}):\".format(sort_by))\n",
    "    print(df_display)\n",
    "\n",
    "    return df\n",
    "\n",
    "compare_models(models)"
   ],
   "id": "46195cd0e7875973",
   "outputs": [
    {
     "name": "stdout",
     "output_type": "stream",
     "text": [
      "\n",
      "Model comparison (sorted by rmse):\n",
      "                 mse    rmse     mae      r2\n",
      "model                                       \n",
      "Poly2+Ridge  68.1120  8.2530  6.3240  0.7088\n",
      "Linear       78.2960  8.8485  7.0824  0.6653\n",
      "Ridge        78.2960  8.8485  7.0824  0.6653\n",
      "Lasso        78.3082  8.8492  7.0822  0.6652\n"
     ]
    },
    {
     "data": {
      "text/plain": [
       "                   mse      rmse       mae        r2\n",
       "model                                               \n",
       "Poly2+Ridge  68.112000  8.252999  6.323962  0.708823\n",
       "Linear       78.295967  8.848501  7.082425  0.665287\n",
       "Ridge        78.295968  8.848501  7.082425  0.665287\n",
       "Lasso        78.308211  8.849193  7.082170  0.665235"
      ],
      "text/html": [
       "<div>\n",
       "<style scoped>\n",
       "    .dataframe tbody tr th:only-of-type {\n",
       "        vertical-align: middle;\n",
       "    }\n",
       "\n",
       "    .dataframe tbody tr th {\n",
       "        vertical-align: top;\n",
       "    }\n",
       "\n",
       "    .dataframe thead th {\n",
       "        text-align: right;\n",
       "    }\n",
       "</style>\n",
       "<table border=\"1\" class=\"dataframe\">\n",
       "  <thead>\n",
       "    <tr style=\"text-align: right;\">\n",
       "      <th></th>\n",
       "      <th>mse</th>\n",
       "      <th>rmse</th>\n",
       "      <th>mae</th>\n",
       "      <th>r2</th>\n",
       "    </tr>\n",
       "    <tr>\n",
       "      <th>model</th>\n",
       "      <th></th>\n",
       "      <th></th>\n",
       "      <th></th>\n",
       "      <th></th>\n",
       "    </tr>\n",
       "  </thead>\n",
       "  <tbody>\n",
       "    <tr>\n",
       "      <th>Poly2+Ridge</th>\n",
       "      <td>68.112000</td>\n",
       "      <td>8.252999</td>\n",
       "      <td>6.323962</td>\n",
       "      <td>0.708823</td>\n",
       "    </tr>\n",
       "    <tr>\n",
       "      <th>Linear</th>\n",
       "      <td>78.295967</td>\n",
       "      <td>8.848501</td>\n",
       "      <td>7.082425</td>\n",
       "      <td>0.665287</td>\n",
       "    </tr>\n",
       "    <tr>\n",
       "      <th>Ridge</th>\n",
       "      <td>78.295968</td>\n",
       "      <td>8.848501</td>\n",
       "      <td>7.082425</td>\n",
       "      <td>0.665287</td>\n",
       "    </tr>\n",
       "    <tr>\n",
       "      <th>Lasso</th>\n",
       "      <td>78.308211</td>\n",
       "      <td>8.849193</td>\n",
       "      <td>7.082170</td>\n",
       "      <td>0.665235</td>\n",
       "    </tr>\n",
       "  </tbody>\n",
       "</table>\n",
       "</div>"
      ]
     },
     "execution_count": 40,
     "metadata": {},
     "output_type": "execute_result"
    }
   ],
   "execution_count": 40
  },
  {
   "metadata": {},
   "cell_type": "markdown",
   "source": [
    "## 5. Выбор лучшей модели и анализ результатов\n",
    "Лучше всего себя показала модель Poly2+Ridge RMSE = 8.253, MAE = 6.324, R² = 0.7088, MSE = 68.112. \n",
    "Самыми ценными мы считаем RMSE/MSE, поскольку именно большие ошибки критичны."
   ],
   "id": "693d44843111153f"
  }
 ],
 "metadata": {
  "kernelspec": {
   "display_name": "Python 3",
   "language": "python",
   "name": "python3"
  },
  "language_info": {
   "codemirror_mode": {
    "name": "ipython",
    "version": 2
   },
   "file_extension": ".py",
   "mimetype": "text/x-python",
   "name": "python",
   "nbconvert_exporter": "python",
   "pygments_lexer": "ipython2",
   "version": "2.7.6"
  }
 },
 "nbformat": 4,
 "nbformat_minor": 5
}
